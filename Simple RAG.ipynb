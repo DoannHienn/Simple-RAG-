{
 "cells": [
  {
   "cell_type": "code",
   "execution_count": 2,
   "metadata": {},
   "outputs": [
    {
     "name": "stdout",
     "output_type": "stream",
     "text": [
      "Loaded 52 entries\n"
     ]
    }
   ],
   "source": [
    "dataset = []\n",
    "with open('Test.txt', 'r') as file:\n",
    "  dataset = file.readlines()\n",
    "  print(f'Loaded {len(dataset)} entries')\n"
   ]
  },
  {
   "cell_type": "code",
   "execution_count": 3,
   "metadata": {},
   "outputs": [],
   "source": [
    "import ollama\n",
    "\n",
    "EMBEDDING_MODEL = 'hf.co/CompendiumLabs/bge-base-en-v1.5-gguf'\n",
    "LANGUAGE_MODEL = 'hf.co/bartowski/Llama-3.2-1B-Instruct-GGUF'\n",
    "\n",
    "# Each element in the VECTOR_DB will be a tuple (chunk, embedding)\n",
    "# The embedding is a list of floats, for example: [0.1, 0.04, -0.34, 0.21, ...]\n",
    "VECTOR_DB = []\n",
    "\n",
    "def add_chunk_to_database(chunk):\n",
    "    # Nhúng chunk và thêm vào VECTOR_DB\n",
    "    embedding = ollama.embed(model=EMBEDDING_MODEL, input=chunk)['embeddings'][0]\n",
    "    VECTOR_DB.append((chunk, embedding))"
   ]
  },
  {
   "cell_type": "code",
   "execution_count": null,
   "metadata": {},
   "outputs": [],
   "source": [
    "print(VECTOR_DB[:3]"
   ]
  },
  {
   "cell_type": "code",
   "execution_count": 4,
   "metadata": {},
   "outputs": [
    {
     "name": "stdout",
     "output_type": "stream",
     "text": [
      "Added chunk 1/52 to the database\n",
      "Added chunk 2/52 to the database\n",
      "Added chunk 3/52 to the database\n",
      "Added chunk 4/52 to the database\n",
      "Added chunk 5/52 to the database\n",
      "Added chunk 6/52 to the database\n",
      "Added chunk 7/52 to the database\n",
      "Added chunk 8/52 to the database\n",
      "Added chunk 9/52 to the database\n",
      "Added chunk 10/52 to the database\n",
      "Added chunk 11/52 to the database\n",
      "Added chunk 12/52 to the database\n",
      "Added chunk 13/52 to the database\n",
      "Added chunk 14/52 to the database\n",
      "Added chunk 15/52 to the database\n",
      "Added chunk 16/52 to the database\n",
      "Added chunk 17/52 to the database\n",
      "Added chunk 18/52 to the database\n",
      "Added chunk 19/52 to the database\n",
      "Added chunk 20/52 to the database\n",
      "Added chunk 21/52 to the database\n",
      "Added chunk 22/52 to the database\n",
      "Added chunk 23/52 to the database\n",
      "Added chunk 24/52 to the database\n",
      "Added chunk 25/52 to the database\n",
      "Added chunk 26/52 to the database\n",
      "Added chunk 27/52 to the database\n",
      "Added chunk 28/52 to the database\n",
      "Added chunk 29/52 to the database\n",
      "Added chunk 30/52 to the database\n",
      "Added chunk 31/52 to the database\n",
      "Added chunk 32/52 to the database\n",
      "Added chunk 33/52 to the database\n",
      "Added chunk 34/52 to the database\n",
      "Added chunk 35/52 to the database\n",
      "Added chunk 36/52 to the database\n",
      "Added chunk 37/52 to the database\n",
      "Added chunk 38/52 to the database\n",
      "Added chunk 39/52 to the database\n",
      "Added chunk 40/52 to the database\n",
      "Added chunk 41/52 to the database\n",
      "Added chunk 42/52 to the database\n",
      "Added chunk 43/52 to the database\n",
      "Added chunk 44/52 to the database\n",
      "Added chunk 45/52 to the database\n",
      "Added chunk 46/52 to the database\n",
      "Added chunk 47/52 to the database\n",
      "Added chunk 48/52 to the database\n",
      "Added chunk 49/52 to the database\n",
      "Added chunk 50/52 to the database\n",
      "Added chunk 51/52 to the database\n",
      "Added chunk 52/52 to the database\n"
     ]
    }
   ],
   "source": [
    "for i, chunk in enumerate(dataset):\n",
    "    add_chunk_to_database(chunk.strip())  # Sử dụng strip để loại bỏ ký tự newline\n",
    "    print(f'Added chunk {i + 1}/{len(dataset)} to the database')"
   ]
  },
  {
   "cell_type": "code",
   "execution_count": 5,
   "metadata": {},
   "outputs": [],
   "source": [
    "def cosine_similarity(a, b):\n",
    "    dot_product = sum(x * y for x, y in zip(a, b))\n",
    "    norm_a = sum(x ** 2 for x in a) ** 0.5\n",
    "    norm_b = sum(x ** 2 for x in b) ** 0.5\n",
    "    return dot_product / (norm_a * norm_b)"
   ]
  },
  {
   "cell_type": "code",
   "execution_count": null,
   "metadata": {},
   "outputs": [],
   "source": []
  },
  {
   "cell_type": "code",
   "execution_count": 26,
   "metadata": {},
   "outputs": [
    {
     "name": "stdout",
     "output_type": "stream",
     "text": [
      "Retrieved knowledge:\n",
      " - (similarity: 0.70) Bleach is an action and supernatural anime that aired from 2004 to 2012, following a teenager who becomes a Soul Reaper and battles evil spirits known as Hollows.\n",
      " - (similarity: 0.67) Monster is a psychological thriller anime released in 2004, following a doctor who tries to stop a former patient he saved, who has become a serial killer.\n",
      " - (similarity: 0.65) Fullmetal Alchemist is an action, adventure, and fantasy anime that aired in 2003, following two brothers who use alchemy to search for the Philosopher's Stone to restore their bodies.\n",
      "Chatbot response:\n",
      "Some notable anime series that premiered or aired in 2004 include:\n",
      "\n",
      "- Hellsing Ultimate (a horror-action series)\n",
      "- Naruto (an action-comedy series)\n",
      "- Monster (a psychological thriller series)\n",
      "- Bleach (an action-supernatural anime)\n",
      "\n",
      "Note: The year is not specified, as all these shows were released before the start of 2013."
     ]
    }
   ],
   "source": [
    "def retrieve(chunk, top_n=3):\n",
    "    query_embedding = ollama.embed(model=EMBEDDING_MODEL, input=chunk)['embeddings'][0]\n",
    "    \n",
    "    # Danh sách tạm thời để lưu trữ cặp (chunk, similarity)\n",
    "    similarities = []\n",
    "    \n",
    "    for chunk, embedding in VECTOR_DB:\n",
    "        similarity = cosine_similarity(query_embedding, embedding)\n",
    "        similarities.append((chunk, similarity))\n",
    "    \n",
    "    # Sắp xếp theo độ tương đồng giảm dần\n",
    "    similarities.sort(key=lambda x: x[1], reverse=True)\n",
    "    \n",
    "    # Trả về N chunk có độ tương đồng cao nhất\n",
    "    return similarities[:top_n]\n",
    "\n",
    "# Nhận truy vấn từ người dùng\n",
    "input_query = input('Ask me a question: ')\n",
    "retrieved_knowledge = retrieve(input_query)\n",
    "\n",
    "print('Retrieved knowledge:')\n",
    "for chunk, similarity in retrieved_knowledge:\n",
    "    print(f' - (similarity: {similarity:.2f}) {chunk}')\n",
    "\n",
    "# Tạo prompt cho chatbot, nhấn mạnh rằng không được tạo ra thông tin mới\n",
    "instruction_prompt = f'''You are a helpful chatbot.\n",
    "Use only the following pieces of context to answer the question. Don't make up any new information:\n",
    "{'\\n'.join([f' - {chunk}' for chunk, similarity in retrieved_knowledge])}\n",
    "'''\n",
    "\n",
    "\n",
    "# Gọi chatbot để trả lời\n",
    "stream = ollama.chat(\n",
    "    model=LANGUAGE_MODEL,\n",
    "    messages=[\n",
    "        {'role': 'system', 'content': instruction_prompt},\n",
    "        {'role': 'user', 'content': input_query},\n",
    "    ],\n",
    "    stream=True,\n",
    ")\n",
    "\n",
    "# In phản hồi từ chatbot theo thời gian thực\n",
    "print('Chatbot response:')\n",
    "for chunk in stream:\n",
    "    print(chunk['message']['content'], end='', flush=True)\n"
   ]
  },
  {
   "cell_type": "code",
   "execution_count": null,
   "metadata": {},
   "outputs": [],
   "source": []
  },
  {
   "cell_type": "code",
   "execution_count": null,
   "metadata": {},
   "outputs": [],
   "source": []
  },
  {
   "cell_type": "code",
   "execution_count": null,
   "metadata": {},
   "outputs": [],
   "source": []
  },
  {
   "cell_type": "code",
   "execution_count": null,
   "metadata": {},
   "outputs": [],
   "source": []
  }
 ],
 "metadata": {
  "kernelspec": {
   "display_name": "base",
   "language": "python",
   "name": "python3"
  },
  "language_info": {
   "codemirror_mode": {
    "name": "ipython",
    "version": 3
   },
   "file_extension": ".py",
   "mimetype": "text/x-python",
   "name": "python",
   "nbconvert_exporter": "python",
   "pygments_lexer": "ipython3",
   "version": "3.12.4"
  }
 },
 "nbformat": 4,
 "nbformat_minor": 2
}
